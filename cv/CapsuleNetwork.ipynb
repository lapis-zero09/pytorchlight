{
 "cells": [
  {
   "cell_type": "code",
   "execution_count": 1,
   "metadata": {
    "ExecuteTime": {
     "end_time": "2018-03-05T10:48:01.132406Z",
     "start_time": "2018-03-05T10:48:00.804041Z"
    }
   },
   "outputs": [],
   "source": [
    "import torch\n",
    "import torch.nn as nn\n",
    "import torch.nn.functional as F\n",
    "import torch.optim as optim\n",
    "\n",
    "from torchvision import datasets, transforms, models\n",
    "from torch.autograd import Variable\n",
    "import numpy as np\n",
    "\n",
    "np.random.seed(123)\n",
    "torch.manual_seed(123)\n",
    "torch.cuda.manual_seed_all(123)"
   ]
  },
  {
   "cell_type": "markdown",
   "metadata": {},
   "source": [
    "# load data"
   ]
  },
  {
   "cell_type": "code",
   "execution_count": 2,
   "metadata": {
    "ExecuteTime": {
     "end_time": "2018-03-06T11:26:00.858054Z",
     "start_time": "2018-03-06T11:26:00.838872Z"
    }
   },
   "outputs": [],
   "source": [
    "train_loader = torch.utils.data.DataLoader(\n",
    "    datasets.MNIST('./data', train=True, download=False,\n",
    "                   transform=transforms.Compose([\n",
    "                       transforms.ToTensor(),\n",
    "                       transforms.Normalize((0.1307,), (0.3081,))\n",
    "                   ])),\n",
    "    batch_size=256, num_workers=2, shuffle=True)\n",
    "\n",
    "\n",
    "test_loader = torch.utils.data.DataLoader(\n",
    "    datasets.MNIST('./data', train=False,\n",
    "                   transform=transforms.Compose([\n",
    "                       transforms.ToTensor(),\n",
    "                       transforms.Normalize((0.1307,), (0.3081,))\n",
    "                   ])),\n",
    "    batch_size=256, num_workers=2, shuffle=True)"
   ]
  },
  {
   "cell_type": "markdown",
   "metadata": {},
   "source": [
    "# train"
   ]
  },
  {
   "cell_type": "code",
   "execution_count": 60,
   "metadata": {
    "ExecuteTime": {
     "end_time": "2018-03-06T11:50:27.138385Z",
     "start_time": "2018-03-06T11:50:27.133176Z"
    }
   },
   "outputs": [],
   "source": [
    "def squash(input_tensor):\n",
    "    squared_norm = (input_tensor ** 2).sum(-1, keepdim=True)\n",
    "    output_tensor = squared_norm *  input_tensor / ((1. + squared_norm) * torch.sqrt(squared_norm))\n",
    "    return output_tensor"
   ]
  },
  {
   "cell_type": "code",
   "execution_count": 61,
   "metadata": {
    "ExecuteTime": {
     "end_time": "2018-03-06T11:50:27.837755Z",
     "start_time": "2018-03-06T11:50:27.829512Z"
    }
   },
   "outputs": [],
   "source": [
    "class PrimaryCaps(nn.Module):\n",
    "    def __init__(self, in_channels=256, out_channels=32, num_caps=8):\n",
    "        super(PrimaryCaps, self).__init__()\n",
    "        self.capsules = nn.ModuleList([nn.Conv2d(\n",
    "            in_channels, out_channels, kernel_size=9, stride=2, padding=0) for _ in range(num_caps)])\n",
    "\n",
    "    def forward(self, x):\n",
    "        u = [capsule(x).view(x.size(0), -1, 1) for capsule in self.capsules]\n",
    "        u = torch.cat(u, dim=-1)\n",
    "        return squash(u)"
   ]
  },
  {
   "cell_type": "code",
   "execution_count": 62,
   "metadata": {
    "ExecuteTime": {
     "end_time": "2018-03-06T11:50:28.392165Z",
     "start_time": "2018-03-06T11:50:28.357504Z"
    }
   },
   "outputs": [],
   "source": [
    "class DigitCaps(nn.Module):\n",
    "    def __init__(self, in_channels=8, out_channels=16, num_route_nodes=32*6*6, num_classes=10, num_iters=3):\n",
    "        super(DigitCaps, self).__init__()\n",
    "        self.num_iters = num_iters\n",
    "        self.weights = nn.Parameter(torch.randn(num_classes, num_route_nodes, in_channels, out_channels))\n",
    "\n",
    "    def forward(self, x):\n",
    "        # weightのNoneはbatch_sizeに対応するための行列変形\n",
    "        # xのは前から出力クラス，各capsuleに対する重みの数に対応\n",
    "        # weights[:, None, :, :, :].shape == [10, 1, 1152, 1, 16]\n",
    "        # x[None, :, :, None, :].shape == [1, batch_size, 1152, 1, 8]\n",
    "        u_ = torch.matmul(x[None, :, :, None, :], self.weights[:, None, :, :, :])\n",
    "#         b = Variable(torch.zeros(*u_.shape))\n",
    "        b = Variable(torch.zeros(*u_.shape)).cuda()\n",
    "        \n",
    "        # routing alg.\n",
    "        for i in range(self.num_iters):\n",
    "            c = F.softmax(b, dim=2)\n",
    "            s = torch.mul(u_, c).sum(dim=2, keepdim=True)\n",
    "            v = squash(s)\n",
    "            \n",
    "            if i < self.num_iters-1:\n",
    "                b = b + torch.mul(u_, c).sum(dim=-1, keepdim=True)\n",
    "                \n",
    "        return v.squeeze().transpose(0, 1)\n",
    "    # [10, 256, 1, 1, 16] -> [256, 10, 16]"
   ]
  },
  {
   "cell_type": "code",
   "execution_count": 63,
   "metadata": {
    "ExecuteTime": {
     "end_time": "2018-03-06T11:50:28.986164Z",
     "start_time": "2018-03-06T11:50:28.922050Z"
    }
   },
   "outputs": [],
   "source": [
    "class CapsuleNet(nn.Module):\n",
    "    def __init__(self, num_classes=10):\n",
    "        super(CapsuleNet, self).__init__()\n",
    "        self.num_classes = num_classes\n",
    "        self.conv = nn.Conv2d(1, 256, kernel_size=9)\n",
    "        self.primary_caps = PrimaryCaps()\n",
    "        self.disit_caps = DigitCaps()\n",
    "        \n",
    "        self.decoder = nn.Sequential(nn.Linear(16*self.num_classes, 512),\n",
    "                                     nn.ReLU(inplace=True),\n",
    "                                     nn.Linear(512, 1024),\n",
    "                                     nn.ReLU(inplace=True),\n",
    "                                     nn.Linear(1024, 28*28),\n",
    "                                     nn.Sigmoid())\n",
    "        \n",
    "    def forward(self, x, y=None):\n",
    "        # [batch_size, 1, 28, 28]\n",
    "        x = self.conv(x)\n",
    "        x = F.relu(x, inplace=True)\n",
    "        # [batch_size, 256, 20, 20]\n",
    "        x = self.primary_caps(x)\n",
    "        # [batch_size, 1152, 8]\n",
    "        x = self.disit_caps(x)\n",
    "        # [10, batch_size, 16]\n",
    "        \n",
    "        cls = torch.sqrt((x**2).sum(dim=-1))\n",
    "        cls = F.softmax(cls, dim=-1)\n",
    "        \n",
    "        if y is None:\n",
    "            _, idx = cls.max(dim=1)\n",
    "#             y = Variable(torch.eye(10)).index_select(dim=0, index=idx)\n",
    "            y = Variable(torch.eye(10)).cuda().index_select(dim=0, index=idx)\n",
    "        \n",
    "        reconstr = self.decoder(torch.mul(x, y[:, :, None]).view(x.size(0), -1))\n",
    "    \n",
    "        return cls, reconstr"
   ]
  },
  {
   "cell_type": "code",
   "execution_count": 64,
   "metadata": {
    "ExecuteTime": {
     "end_time": "2018-03-06T11:50:29.648394Z",
     "start_time": "2018-03-06T11:50:29.620755Z"
    }
   },
   "outputs": [],
   "source": [
    "class CapsuleLoss(nn.Module):\n",
    "    def __init__(self):\n",
    "        super(CapsuleLoss, self).__init__()\n",
    "        self.mse_loss = nn.MSELoss(size_average=False)\n",
    "        \n",
    "    def margin_loss(self, pred, y_true):\n",
    "        left = F.relu(0.9-pred, inplace=True) ** 2\n",
    "        right = F.relu(pred-0.1, inplace=True) ** 2\n",
    "        margin_loss = y_true * left + 0.5 * (1. - y_true) * right\n",
    "        return margin_loss.sum()\n",
    "\n",
    "    def reconstr_loss(self, reconstr, org_data):\n",
    "        return self.mse_loss(reconstr, org_data) * 0.0005\n",
    "\n",
    "    def forward(self, org_data, y_true, pred, reconstr):\n",
    "        org_data = org_data.view(reconstr.size(0), -1)\n",
    "        margin_loss = self.margin_loss(pred, y_true)\n",
    "        reconstr_loss = self.reconstr_loss(reconstr, org_data)\n",
    "        return (margin_loss + reconstr_loss) / org_data.size(0)"
   ]
  },
  {
   "cell_type": "code",
   "execution_count": 65,
   "metadata": {
    "ExecuteTime": {
     "end_time": "2018-03-06T11:50:30.725421Z",
     "start_time": "2018-03-06T11:50:30.344945Z"
    }
   },
   "outputs": [
    {
     "data": {
      "text/plain": [
       "CapsuleNet(\n",
       "  (conv): Conv2d(1, 256, kernel_size=(9, 9), stride=(1, 1))\n",
       "  (primary_caps): PrimaryCaps(\n",
       "    (capsules): ModuleList(\n",
       "      (0): Conv2d(256, 32, kernel_size=(9, 9), stride=(2, 2))\n",
       "      (1): Conv2d(256, 32, kernel_size=(9, 9), stride=(2, 2))\n",
       "      (2): Conv2d(256, 32, kernel_size=(9, 9), stride=(2, 2))\n",
       "      (3): Conv2d(256, 32, kernel_size=(9, 9), stride=(2, 2))\n",
       "      (4): Conv2d(256, 32, kernel_size=(9, 9), stride=(2, 2))\n",
       "      (5): Conv2d(256, 32, kernel_size=(9, 9), stride=(2, 2))\n",
       "      (6): Conv2d(256, 32, kernel_size=(9, 9), stride=(2, 2))\n",
       "      (7): Conv2d(256, 32, kernel_size=(9, 9), stride=(2, 2))\n",
       "    )\n",
       "  )\n",
       "  (disit_caps): DigitCaps(\n",
       "  )\n",
       "  (decoder): Sequential(\n",
       "    (0): Linear(in_features=160, out_features=512, bias=True)\n",
       "    (1): ReLU(inplace)\n",
       "    (2): Linear(in_features=512, out_features=1024, bias=True)\n",
       "    (3): ReLU(inplace)\n",
       "    (4): Linear(in_features=1024, out_features=784, bias=True)\n",
       "    (5): Sigmoid()\n",
       "  )\n",
       ")"
      ]
     },
     "execution_count": 65,
     "metadata": {},
     "output_type": "execute_result"
    }
   ],
   "source": [
    "model = CapsuleNet()\n",
    "model.cuda()"
   ]
  },
  {
   "cell_type": "code",
   "execution_count": 66,
   "metadata": {
    "ExecuteTime": {
     "end_time": "2018-03-06T11:50:31.201614Z",
     "start_time": "2018-03-06T11:50:31.116924Z"
    }
   },
   "outputs": [],
   "source": [
    "optimizer = optim.Adam(model.parameters())\n",
    "loss_func = CapsuleLoss().cuda()\n",
    "\n",
    "def train(train_loader):\n",
    "    model.train()\n",
    "    train_loss = 0\n",
    "    for batch_idx, (x, y) in enumerate(train_loader):\n",
    "#         x, y = x.cuda(), y.cuda()\n",
    "#         b_x = Variable(x)\n",
    "#         b_y = Variable(torch.eye(10).index_select(dim=0, index=y))\n",
    "\n",
    "        b_x = Variable(x).cuda()\n",
    "        b_y = Variable(torch.eye(10).index_select(dim=0, index=y)).cuda()\n",
    "        \n",
    "        \n",
    "        optimizer.zero_grad()\n",
    "        outputs, reconstr = model(b_x, b_y)\n",
    "        \n",
    "        loss = loss_func(b_x, b_y, outputs, reconstr)\n",
    "        train_loss += loss.data[0]\n",
    "\n",
    "        loss.backward()\n",
    "        optimizer.step()\n",
    "        \n",
    "        \n",
    "        if batch_idx % 100 == 0:\n",
    "            print(\"train accuracy:\", sum(np.argmax(outputs.data.cpu().numpy(), 1) == \n",
    "                                   np.argmax(b_y.data.cpu().numpy(), 1)) / 256.)\n",
    "        \n",
    "\n",
    "    train_loss = train_loss / len(train_loader)\n",
    "    return train_loss\n",
    "\n",
    "def valid(test_loader):\n",
    "    model.eval()\n",
    "    test_loss = 0\n",
    "    for batch_idx, (x, y) in enumerate(test_loader):\n",
    "#         x, y = x.cuda(), y.cuda()\n",
    "#         b_x = Variable(x, volatile=True)\n",
    "#         b_y = Variable(torch.eye(10).index_select(dim=0, index=y), volatile=True)\n",
    "        \n",
    "        b_x = Variable(x, volatile=True).cuda()\n",
    "        b_y = Variable(torch.eye(10).index_select(dim=0, index=y), volatile=True).cuda()\n",
    "        \n",
    "        outputs, reconstr = model(b_x)\n",
    "        loss = loss_func(b_x, b_y, outputs, reconstr)\n",
    "        test_loss += loss.data[0]\n",
    "        \n",
    "        if batch_idx % 100 == 0:\n",
    "            print(\"test accuracy:\", sum(np.argmax(outputs.data.cpu().numpy(), 1) == \n",
    "                                   np.argmax(b_y.data.cpu().numpy(), 1)) / 256.)\n",
    "\n",
    "    val_loss = test_loss / len(test_loader)\n",
    "    return val_loss"
   ]
  },
  {
   "cell_type": "code",
   "execution_count": 67,
   "metadata": {
    "ExecuteTime": {
     "end_time": "2018-03-06T12:47:37.677425Z",
     "start_time": "2018-03-06T11:50:35.467561Z"
    }
   },
   "outputs": [
    {
     "name": "stdout",
     "output_type": "stream",
     "text": [
      "train accuracy: 0.0859375\n",
      "train accuracy: 0.92578125\n",
      "train accuracy: 0.95703125\n",
      "test accuracy: 0.94140625\n",
      "epoch 0, loss: 0.8451 val_loss: 0.7832\n",
      "train accuracy: 0.97265625\n",
      "train accuracy: 0.96875\n",
      "train accuracy: 0.96484375\n",
      "test accuracy: 0.9921875\n",
      "epoch 1, loss: 0.7668 val_loss: 0.7560\n",
      "train accuracy: 0.96875\n",
      "train accuracy: 0.96484375\n",
      "train accuracy: 0.97265625\n",
      "test accuracy: 0.984375\n",
      "epoch 2, loss: 0.7481 val_loss: 0.7442\n"
     ]
    }
   ],
   "source": [
    "epochs = 3\n",
    "loss_list = []\n",
    "val_loss_list = []\n",
    "for epoch in range(epochs):\n",
    "    loss = train(train_loader)\n",
    "    val_loss = valid(test_loader)\n",
    "\n",
    "    print('epoch %d, loss: %.4f val_loss: %.4f'\n",
    "          % (epoch, loss, val_loss))\n",
    "    \n",
    "    # logging\n",
    "    loss_list.append(loss)\n",
    "    val_loss_list.append(val_loss)"
   ]
  },
  {
   "cell_type": "code",
   "execution_count": 13,
   "metadata": {
    "ExecuteTime": {
     "end_time": "2018-03-05T11:16:10.942117Z",
     "start_time": "2018-03-05T11:16:10.287786Z"
    }
   },
   "outputs": [],
   "source": [
    "x, y = iter(test_loader).next()\n",
    "b_x = Variable(x, volatile=True).cuda()\n",
    "b_y = Variable(torch.eye(10).index_select(dim=0, index=y), volatile=True).cuda()\n",
    "\n",
    "outputs, reconstr = model(b_x)"
   ]
  },
  {
   "cell_type": "code",
   "execution_count": 101,
   "metadata": {
    "ExecuteTime": {
     "end_time": "2018-03-05T13:30:09.537661Z",
     "start_time": "2018-03-05T13:30:09.517950Z"
    }
   },
   "outputs": [],
   "source": [
    "import matplotlib\n",
    "import matplotlib.pyplot as plt\n",
    "\n",
    "def plot_images_separately(images):\n",
    "    \"Plot the six MNIST images separately.\"\n",
    "    for i in range(5):\n",
    "        fig = plt.figure()\n",
    "        for j in range(1, 6):\n",
    "            ax = fig.add_subplot(1, 5, j)\n",
    "            ax.matshow(images[i*5+j-1], cmap = matplotlib.cm.binary)\n",
    "            plt.xticks(np.array([]))\n",
    "            plt.yticks(np.array([]))\n",
    "        plt.show()"
   ]
  },
  {
   "cell_type": "code",
   "execution_count": 102,
   "metadata": {
    "ExecuteTime": {
     "end_time": "2018-03-05T13:30:10.913523Z",
     "start_time": "2018-03-05T13:30:10.089876Z"
    },
    "scrolled": true
   },
   "outputs": [
    {
     "data": {
      "image/png": "[encoded data removed]",
      "text/plain": [
       "<matplotlib.figure.Figure at 0x7fce25016780>"
      ]
     },
     "metadata": {},
     "output_type": "display_data"
    },
    {
     "data": {
      "image/png": "[encoded data removed]",
      "text/plain": [
       "<matplotlib.figure.Figure at 0x7fce2504d5c0>"
      ]
     },
     "metadata": {},
     "output_type": "display_data"
    },
    {
     "data": {
      "image/png": "[encoded data removed]",
      "text/plain": [
       "<matplotlib.figure.Figure at 0x7fce253a5358>"
      ]
     },
     "metadata": {},
     "output_type": "display_data"
    },
    {
     "data": {
      "image/png": "[encoded data removed]",
      "text/plain": [
       "<matplotlib.figure.Figure at 0x7fce2504aa90>"
      ]
     },
     "metadata": {},
     "output_type": "display_data"
    },
    {
     "data": {
      "image/png": "[encoded data removed]",
      "text/plain": [
       "<matplotlib.figure.Figure at 0x7fce24ae7438>"
      ]
     },
     "metadata": {},
     "output_type": "display_data"
    }
   ],
   "source": [
    "plot_images_separately(b_x[:25,0].data.cpu().numpy())"
   ]
  },
  {
   "cell_type": "code",
   "execution_count": 103,
   "metadata": {
    "ExecuteTime": {
     "end_time": "2018-03-05T13:30:22.845965Z",
     "start_time": "2018-03-05T13:30:22.088493Z"
    }
   },
   "outputs": [
    {
     "data": {
      "image/png": "[encoded data removed]",
      "text/plain": [
       "<matplotlib.figure.Figure at 0x7fce24ae7da0>"
      ]
     },
     "metadata": {},
     "output_type": "display_data"
    },
    {
     "data": {
      "image/png": "[encoded data removed]",
      "text/plain": [
       "<matplotlib.figure.Figure at 0x7fce24cfebe0>"
      ]
     },
     "metadata": {},
     "output_type": "display_data"
    },
    {
     "data": {
      "image/png": "[encoded data removed]",
      "text/plain": [
       "<matplotlib.figure.Figure at 0x7fce2491b630>"
      ]
     },
     "metadata": {},
     "output_type": "display_data"
    },
    {
     "data": {
      "image/png": "[encoded data removed]",
      "text/plain": [
       "<matplotlib.figure.Figure at 0x7fce253b8710>"
      ]
     },
     "metadata": {},
     "output_type": "display_data"
    },
    {
     "data": {
      "image/png": "[encoded data removed]",
      "text/plain": [
       "<matplotlib.figure.Figure at 0x7fce25396080>"
      ]
     },
     "metadata": {},
     "output_type": "display_data"
    }
   ],
   "source": [
    "plot_images_separately(reconstr.view(b_x.shape)[:25,0].data.cpu().numpy())"
   ]
  }
 ],
 "metadata": {
  "kernelspec": {
   "display_name": "Python 3",
   "language": "python",
   "name": "python3"
  },
  "language_info": {
   "codemirror_mode": {
    "name": "ipython",
    "version": 3
   },
   "file_extension": ".py",
   "mimetype": "text/x-python",
   "name": "python",
   "nbconvert_exporter": "python",
   "pygments_lexer": "ipython3",
   "version": "3.6.4"
  },
  "notify_time": "5",
  "toc": {
   "nav_menu": {},
   "number_sections": true,
   "sideBar": true,
   "skip_h1_title": false,
   "toc_cell": false,
   "toc_position": {},
   "toc_section_display": "block",
   "toc_window_display": false
  }
 },
 "nbformat": 4,
 "nbformat_minor": 2
}
